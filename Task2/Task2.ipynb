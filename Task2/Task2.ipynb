{
 "cells": [
  {
   "cell_type": "markdown",
   "metadata": {},
   "source": [
    "# Task2（2day）\n",
    "## 1. 列表\n",
    "### 1)标志  \n",
    "### 2)基本操作(创建，append(),pop(),del(),拷贝)  \n",
    "### 3)列表相关方法\n",
    "## 2.元组\n",
    "### 1)标志\n",
    "### 2)基本操作(创建及不可变性)\n",
    "## 3.string字符串\n",
    "### 1)定义及基本操作(+，*，读取方式)\n",
    "### 2)字符串相关方法\n",
    "## 4.字符串格式化问题"
   ]
  },
  {
   "cell_type": "markdown",
   "metadata": {},
   "source": [
    "# Solutions"
   ]
  },
  {
   "cell_type": "markdown",
   "metadata": {},
   "source": [
    "## 1.列表\n",
    "### 1.1 列表是什么？有什么特点？\n",
    "——Python 有6个内置的序列类型，列表是其中之一，是python最基本最常用的数据结构。\n",
    "——序列都有的操作：索引/切片/加/乘/检查成员/找最值。\n",
    "\n"
   ]
  },
  {
   "cell_type": "markdown",
   "metadata": {},
   "source": [
    "### 1.2 列表的ADT\n",
    "#### 元素类型：可不同\n",
    "#### 常用操作  \n",
    "静：\n",
    "* 索引和切片  \n",
    "* 将元祖转化为列表\n",
    "* 查找返回第一个索引         \n",
    "动：  \n",
    "* 创建/删除/追加/加法/乘法\n",
    "* 移除列表中某个值的第一个匹配项\n",
    "* 列表反转\n",
    "* 复制列表"
   ]
  },
  {
   "cell_type": "code",
   "execution_count": 2,
   "metadata": {},
   "outputs": [
    {
     "name": "stdout",
     "output_type": "stream",
     "text": [
      "原列表： [1, 2, 3, 4, 5]\n",
      "切片-list[-2:]: [4, 5]\n"
     ]
    }
   ],
   "source": [
    "list=[1,2,3,4,5]\n",
    "print('原列表：',list)\n",
    "print('切片-list[-2:]:',list[-2:])#切片\n"
   ]
  },
  {
   "cell_type": "code",
   "execution_count": 5,
   "metadata": {},
   "outputs": [
    {
     "name": "stdout",
     "output_type": "stream",
     "text": [
      "删除最后一个元素后： [1, 2, 3, 4]\n"
     ]
    }
   ],
   "source": [
    "del list[-1]\n",
    "print('删除最后一个元素后：',list)"
   ]
  },
  {
   "cell_type": "markdown",
   "metadata": {},
   "source": [
    "### 后面的用到则不断完善"
   ]
  },
  {
   "cell_type": "markdown",
   "metadata": {},
   "source": [
    "## 2.元组\n",
    "### 2.1 元组是什么？有什么特点？\n",
    "——元组和列表一样同属于序列，和列表不同的是：元组元素不可修改。创建：小括号，逗号隔开。"
   ]
  },
  {
   "cell_type": "markdown",
   "metadata": {},
   "source": [
    "### 2.2 ADT  \n",
    "#### 元素类型：可不同\n",
    "#### 基本操作  \n",
    "静：  \n",
    "* 索引\n",
    "* 切片\n",
    "       \n",
    "动：\n",
    "* 创建单元素元组\n",
    "* 加法与乘法\n",
    "* del删除整个元组\n"
   ]
  },
  {
   "cell_type": "code",
   "execution_count": 6,
   "metadata": {},
   "outputs": [
    {
     "name": "stdout",
     "output_type": "stream",
     "text": [
      "原列表： (1, 2, 3, 4, 5)\n",
      "切片-tuple[-2:]: (4, 5)\n"
     ]
    }
   ],
   "source": [
    "tuple=(1,2,3,4,5)\n",
    "print('原列表：',tuple)\n",
    "print('切片-tuple[-2:]:',tuple[-2:])#切片"
   ]
  },
  {
   "cell_type": "markdown",
   "metadata": {},
   "source": [
    "### 后面用到则不断完善"
   ]
  },
  {
   "cell_type": "markdown",
   "metadata": {},
   "source": [
    "## 字符串\n",
    "### 可以用引号('或\")创建字符串\n",
    "### ADT\n",
    "#### 基本操作\n",
    "静：\n",
    "* 索引与切片\n",
    "* \n",
    "动：\n"
   ]
  },
  {
   "cell_type": "markdown",
   "metadata": {},
   "source": [
    "内容参考：[菜鸟教程](https://www.runoob.com/python3/python3-string.html)。关于格式说明字符串以及内置的字符串处理函数同见此链接"
   ]
  },
  {
   "cell_type": "code",
   "execution_count": null,
   "metadata": {},
   "outputs": [],
   "source": []
  }
 ],
 "metadata": {
  "kernelspec": {
   "display_name": "Python 3",
   "language": "python",
   "name": "python3"
  },
  "language_info": {
   "codemirror_mode": {
    "name": "ipython",
    "version": 3
   },
   "file_extension": ".py",
   "mimetype": "text/x-python",
   "name": "python",
   "nbconvert_exporter": "python",
   "pygments_lexer": "ipython3",
   "version": "3.7.3"
  }
 },
 "nbformat": 4,
 "nbformat_minor": 2
}
