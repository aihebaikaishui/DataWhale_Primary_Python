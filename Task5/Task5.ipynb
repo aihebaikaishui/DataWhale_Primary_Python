{
 "cells": [
  {
   "cell_type": "markdown",
   "metadata": {},
   "source": [
    "# Task5 **（2day）**\n",
    "\n",
    "\n",
    "1. 类和对象\n",
    "\n",
    "2. 正则表达式\n",
    "\n",
    "3. re模块\n",
    "\n",
    "4. datetime模块学习\n",
    "\n",
    "5. http请求\n",
    "\n",
    "\n",
    "\n",
    "\n",
    "[参考答案](./../参考答案)"
   ]
  },
  {
   "cell_type": "markdown",
   "metadata": {},
   "source": [
    "----"
   ]
  },
  {
   "cell_type": "markdown",
   "metadata": {},
   "source": [
    "# **Solutions**"
   ]
  },
  {
   "cell_type": "markdown",
   "metadata": {},
   "source": [
    "## 1.类和对象"
   ]
  },
  {
   "cell_type": "markdown",
   "metadata": {},
   "source": [
    "### EX1:声明一个Calculator 类，属性：name,price。行为：add();minus();times();divide()..每一个都需要打印结果"
   ]
  },
  {
   "cell_type": "code",
   "execution_count": 3,
   "metadata": {},
   "outputs": [],
   "source": [
    "# 类的声明\n",
    "class Calculator:\n",
    "    name = \"Good Calculator\"\n",
    "    price = 18\n",
    "    def add(self, x,y):\n",
    "        print(self.name)\n",
    "        result = x+ y\n",
    "        print(\"x=y=\",result)\n",
    "    def minus(self, x,y):\n",
    "        result = x-y\n",
    "        print(\"x-y=\",result)\n",
    "    def times(self,x,y):\n",
    "        result = x*y\n",
    "        print(\"x*y=\",result)\n",
    "    def divide(self,x,y):\n",
    "        result = x/y\n",
    "        print(\"x/y\",result)\n",
    "    "
   ]
  },
  {
   "cell_type": "code",
   "execution_count": 4,
   "metadata": {},
   "outputs": [
    {
     "name": "stdout",
     "output_type": "stream",
     "text": [
      "Good Calculator 18\n",
      "Good Calculator\n",
      "x=y= 3\n",
      "x-y= -1\n",
      "x*y= 2\n",
      "x/y 0.5\n"
     ]
    }
   ],
   "source": [
    "cal=Calculator()\n",
    "print(cal.name,cal.price)\n",
    "cal.add(1,2)\n",
    "cal.minus(1,2)\n",
    "cal.times(1,2)\n",
    "cal.divide(1,2)"
   ]
  },
  {
   "cell_type": "markdown",
   "metadata": {},
   "source": [
    "___"
   ]
  },
  {
   "cell_type": "markdown",
   "metadata": {},
   "source": [
    "## [2-3].正则表达式"
   ]
  },
  {
   "cell_type": "markdown",
   "metadata": {},
   "source": [
    "---"
   ]
  },
  {
   "cell_type": "markdown",
   "metadata": {},
   "source": [
    "### 难度：较复杂\n",
    "### 功能：匹配字符。可用于网络爬虫。比如爬取网页中每一页的标题\n",
    "### 目标：了解有什么。需要的时候再去琢磨记忆\n",
    "### 内容\n",
    "* 简单的匹配\n",
    "* 灵活匹配\n",
    "* 按类型匹配\n",
    "* 重复匹配\n",
    "* 分组\n",
    "* find all\n",
    "* replace\n",
    "* split\n",
    "* compile\n",
    "* 小抄"
   ]
  },
  {
   "cell_type": "markdown",
   "metadata": {},
   "source": [
    "#### **简单的匹配——在文字中找特定的内容**\n",
    "#### EX：在“dogs runs to cat”中寻找有无\"dog\" \"cat\""
   ]
  },
  {
   "cell_type": "code",
   "execution_count": 6,
   "metadata": {},
   "outputs": [
    {
     "name": "stdout",
     "output_type": "stream",
     "text": [
      "True\n",
      "False\n"
     ]
    }
   ],
   "source": [
    "# matching string\n",
    "pattern1=\"cat\"\n",
    "pattern2=\"bird\"\n",
    "string = \"dogs runs to cat\"\n",
    "print(pattern1 in string)\n",
    "print(pattern2 in string)"
   ]
  },
  {
   "cell_type": "markdown",
   "metadata": {},
   "source": [
    "#### **使用 regular expression  引入re模块 来实现上述问题**"
   ]
  },
  {
   "cell_type": "code",
   "execution_count": 7,
   "metadata": {},
   "outputs": [
    {
     "name": "stdout",
     "output_type": "stream",
     "text": [
      "<re.Match object; span=(13, 16), match='cat'>\n",
      "None\n"
     ]
    }
   ],
   "source": [
    "# regular Expression\n",
    "import re\n",
    "pattern1=\"cat\"\n",
    "pattern2=\"bird\"\n",
    "string = \"dogs runs to cat\"\n",
    "print(re.search(pattern1,string))\n",
    "print(re.search(pattern2,string))"
   ]
  },
  {
   "cell_type": "markdown",
   "metadata": {},
   "source": [
    "#### **灵活匹配**————[ab]需要找a 或者 b\n",
    "#### EX:从“dogs runs to cat”中找\"run\"  \"ran\""
   ]
  },
  {
   "cell_type": "code",
   "execution_count": 8,
   "metadata": {},
   "outputs": [
    {
     "name": "stdout",
     "output_type": "stream",
     "text": [
      "<re.Match object; span=(5, 8), match='run'>\n"
     ]
    }
   ],
   "source": [
    "# mutiple patterns (\"run\" or \"ran\")\n",
    "ptn = r\"r[au]n\"   # start with r means raw strings\n",
    "print(re.search(ptn,string))"
   ]
  },
  {
   "cell_type": "code",
   "execution_count": 9,
   "metadata": {},
   "outputs": [
    {
     "name": "stdout",
     "output_type": "stream",
     "text": [
      "None\n",
      "<re.Match object; span=(4, 7), match='run'>\n",
      "<re.Match object; span=(4, 7), match='r2n'>\n",
      "<re.Match object; span=(4, 7), match='run'>\n"
     ]
    }
   ],
   "source": [
    "# 中括号中可以使更多组合\n",
    "# continue\n",
    "print(re.search(r\"r[A-Z]n\", \"dog runs to cat\"))     \n",
    "print(re.search(r\"r[a-z]n\", \"dog runs to cat\"))     \n",
    "print(re.search(r\"r[0-9]n\", \"dog r2ns to cat\"))     \n",
    "print(re.search(r\"r[0-9a-z]n\", \"dog runs to cat\"))"
   ]
  },
  {
   "cell_type": "markdown",
   "metadata": {},
   "source": [
    "### **按类型匹配**——如r\"r\\dn\" \\d 指代任意数字\n",
    "#### 一些例子\n",
    "* \\d : 任何数字\n",
    "* \\D : 不是数字\n",
    "* \\s : 任何 white space, 如 [\\t\\n\\r\\f\\v]\n",
    "* \\S : 不是 white space\n",
    "* \\w : 任何大小写字母, 数字和 “” [a-zA-Z0-9]\n",
    "* \\W : 不是 \\w\n",
    "* \\b : 空白字符 (只在某个字的开头或结尾)\n",
    "* \\B : 空白字符 (不在某个字的开头或结尾)\n",
    "* \\\\ : 匹配 \\\n",
    "* . : 匹配任何字符 (除了 \\n)\n",
    "* ^ : 匹配开头\n",
    "* $ : 匹配结尾\n",
    "* ? : 前面的字符可有可无"
   ]
  },
  {
   "cell_type": "markdown",
   "metadata": {},
   "source": [
    "### **重复匹配**\n",
    "#### 如果我们想让某个规律被重复使用, 在正则里面也是可以实现的, 而且实现的方式还有很多. 具体可以分为这三种:\n",
    "* \\* : 重复零次或多次\n",
    "* \\+ : 重复一次或多次\n",
    "* {n, m} : 重复 n 至 m 次\n",
    "\n",
    "* {n} : 重复 n 次"
   ]
  },
  {
   "cell_type": "markdown",
   "metadata": {},
   "source": [
    "### **分组**"
   ]
  },
  {
   "cell_type": "code",
   "execution_count": null,
   "metadata": {},
   "outputs": [],
   "source": []
  },
  {
   "cell_type": "markdown",
   "metadata": {},
   "source": [
    "---"
   ]
  },
  {
   "cell_type": "markdown",
   "metadata": {},
   "source": [
    "### **findall**"
   ]
  },
  {
   "cell_type": "code",
   "execution_count": null,
   "metadata": {},
   "outputs": [],
   "source": []
  },
  {
   "cell_type": "markdown",
   "metadata": {},
   "source": [
    "___"
   ]
  },
  {
   "cell_type": "markdown",
   "metadata": {},
   "source": [
    "### **replace**"
   ]
  },
  {
   "cell_type": "code",
   "execution_count": null,
   "metadata": {},
   "outputs": [],
   "source": []
  },
  {
   "cell_type": "markdown",
   "metadata": {},
   "source": [
    "___"
   ]
  },
  {
   "cell_type": "markdown",
   "metadata": {},
   "source": [
    "### **split**"
   ]
  },
  {
   "cell_type": "code",
   "execution_count": null,
   "metadata": {},
   "outputs": [],
   "source": []
  },
  {
   "cell_type": "markdown",
   "metadata": {},
   "source": [
    "___"
   ]
  },
  {
   "cell_type": "markdown",
   "metadata": {},
   "source": [
    "### **complie**"
   ]
  },
  {
   "cell_type": "code",
   "execution_count": null,
   "metadata": {},
   "outputs": [],
   "source": []
  },
  {
   "cell_type": "markdown",
   "metadata": {},
   "source": [
    "___"
   ]
  },
  {
   "cell_type": "markdown",
   "metadata": {},
   "source": [
    "### **小炒**"
   ]
  },
  {
   "cell_type": "code",
   "execution_count": null,
   "metadata": {},
   "outputs": [],
   "source": []
  },
  {
   "cell_type": "markdown",
   "metadata": {},
   "source": [
    "___"
   ]
  },
  {
   "cell_type": "markdown",
   "metadata": {},
   "source": [
    "## 4.datatime 模块学习"
   ]
  },
  {
   "cell_type": "code",
   "execution_count": null,
   "metadata": {},
   "outputs": [],
   "source": []
  },
  {
   "cell_type": "markdown",
   "metadata": {},
   "source": [
    "___"
   ]
  },
  {
   "cell_type": "markdown",
   "metadata": {},
   "source": [
    "## 5.http请求"
   ]
  },
  {
   "cell_type": "markdown",
   "metadata": {},
   "source": [
    "### 需要先了解网络爬虫的基本概念，才能懂得http请求是什么意思"
   ]
  },
  {
   "cell_type": "code",
   "execution_count": null,
   "metadata": {},
   "outputs": [],
   "source": []
  },
  {
   "cell_type": "markdown",
   "metadata": {},
   "source": [
    "___"
   ]
  },
  {
   "cell_type": "code",
   "execution_count": null,
   "metadata": {},
   "outputs": [],
   "source": []
  }
 ],
 "metadata": {
  "kernelspec": {
   "display_name": "Python 3",
   "language": "python",
   "name": "python3"
  },
  "language_info": {
   "codemirror_mode": {
    "name": "ipython",
    "version": 3
   },
   "file_extension": ".py",
   "mimetype": "text/x-python",
   "name": "python",
   "nbconvert_exporter": "python",
   "pygments_lexer": "ipython3",
   "version": "3.7.3"
  }
 },
 "nbformat": 4,
 "nbformat_minor": 2
}
