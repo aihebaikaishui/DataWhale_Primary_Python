{
 "cells": [
  {
   "cell_type": "markdown",
   "metadata": {},
   "source": [
    "# **Task3（2day）**\n",
    "\n",
    "## 1. dict字典\n",
    "\n",
    "* 定义\n",
    "\n",
    "* 创建\n",
    "\n",
    "* 字典的方法\n",
    "\n",
    "## 2. 集合\n",
    "\n",
    "* 特性\n",
    "\n",
    "* 创建\n",
    "\n",
    "* 方法\n",
    "\n",
    "## 3. 判断语句（要求掌握多条件判断）\n",
    "\n",
    "## 4. 三目表达式\n",
    "\n",
    "## 5. 循环语句\n",
    "\n",
    "[参考答案](./../参考答案)"
   ]
  },
  {
   "cell_type": "markdown",
   "metadata": {},
   "source": [
    "# **Solutions**"
   ]
  },
  {
   "cell_type": "markdown",
   "metadata": {},
   "source": [
    "## 1.dict字典\n",
    "### 1.1 字典是什么？有什么特点？\n",
    "字典的组成元素由一对键值对构成，value和key之间由:隔开。整体由{}包围。。value可以是不同类型；但是key只能是一种类型。不允许同key,创建时如果同一个key创建两个，则后面的被记住。\n",
    "### 1.2 ADT\n",
    "* 静  \n",
    "——将键放于[]中进行访问\n",
    "* 动  \n",
    "——修改或者增加  \n",
    "——删除字典内所有元素  \n",
    "——创建一个新字典，以序列seq中元素做字典的键，val为字典所有键对应的初始值  \n",
    "——以列表返回可遍历的(键, 值) 元组数组\n",
    "——返回一个迭代器，可以使用 list() 来转换为列表"
   ]
  },
  {
   "cell_type": "markdown",
   "metadata": {},
   "source": [
    "## 2. set集合\n",
    "### 2.1 集合是什么，有什么特点？\n",
    "#### 无序，不重复。用{}或者set()创建。不过空的set能用{}吗？\n",
    "\n",
    "### 2.2 ADT\n",
    "动  \n",
    "添加元素  \n",
    "移除元素  \n",
    "清空集合  \n",
    "\n",
    "静\n",
    "判断元素是否在集合中存在  \n",
    "返回多个集合的差集\n"
   ]
  },
  {
   "cell_type": "markdown",
   "metadata": {},
   "source": [
    "[参考](https://www.runoob.com/python3/python3-tutorial.html)"
   ]
  },
  {
   "cell_type": "code",
   "execution_count": null,
   "metadata": {},
   "outputs": [],
   "source": []
  }
 ],
 "metadata": {
  "kernelspec": {
   "display_name": "Python 3",
   "language": "python",
   "name": "python3"
  },
  "language_info": {
   "codemirror_mode": {
    "name": "ipython",
    "version": 3
   },
   "file_extension": ".py",
   "mimetype": "text/x-python",
   "name": "python",
   "nbconvert_exporter": "python",
   "pygments_lexer": "ipython3",
   "version": "3.7.3"
  }
 },
 "nbformat": 4,
 "nbformat_minor": 2
}
