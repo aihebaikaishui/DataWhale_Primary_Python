{
 "cells": [
  {
   "cell_type": "markdown",
   "metadata": {},
   "source": [
    "# Numpy基础"
   ]
  },
  {
   "cell_type": "code",
   "execution_count": 11,
   "metadata": {},
   "outputs": [
    {
     "name": "stdout",
     "output_type": "stream",
     "text": [
      "[[1 2 3]\n",
      " [2 3 4]]\n"
     ]
    }
   ],
   "source": [
    "# list转化为矩阵\n",
    "import numpy as np\n",
    "list = [[1,2,3],[2,3,4]]\n",
    "array = np.array(list)\n",
    "print(array)"
   ]
  },
  {
   "cell_type": "code",
   "execution_count": 12,
   "metadata": {},
   "outputs": [
    {
     "name": "stdout",
     "output_type": "stream",
     "text": [
      "[[1, 2, 3], [2, 3, 4]]\n"
     ]
    }
   ],
   "source": [
    "print (list)"
   ]
  },
  {
   "cell_type": "code",
   "execution_count": 13,
   "metadata": {},
   "outputs": [
    {
     "name": "stdout",
     "output_type": "stream",
     "text": [
      "the dim: 2\n",
      "the shape: (2, 3)\n",
      "the size: 6\n"
     ]
    }
   ],
   "source": [
    "#几种属性\n",
    "print(\"the dim:\",array.ndim)\n",
    "print(\"the shape:\",array.shape)\n",
    "print(\"the size:\",array.size)"
   ]
  },
  {
   "cell_type": "markdown",
   "metadata": {},
   "source": [
    "## NumPy 之 创建array\n",
    "### 关键字\n",
    "* array\n",
    "* dtype\n",
    "* zeros\n",
    "* ones\n",
    "* empty\n",
    "* arrange\n",
    "* linspace"
   ]
  },
  {
   "cell_type": "code",
   "execution_count": 14,
   "metadata": {},
   "outputs": [
    {
     "name": "stdout",
     "output_type": "stream",
     "text": [
      "[ 2 23  4]\n"
     ]
    }
   ],
   "source": [
    "#创建数组\n",
    "a = np.array([2,23,4]) #list 1d\n",
    "list1 = [2,23,4]  #后面常用\n",
    "print(a)"
   ]
  },
  {
   "cell_type": "code",
   "execution_count": 15,
   "metadata": {},
   "outputs": [
    {
     "name": "stdout",
     "output_type": "stream",
     "text": [
      "int32\n"
     ]
    }
   ],
   "source": [
    "#指定数据dtype\n",
    "a = np.array(list,dtype=np.int)\n",
    "print(a.dtype)"
   ]
  },
  {
   "cell_type": "code",
   "execution_count": 16,
   "metadata": {},
   "outputs": [
    {
     "name": "stdout",
     "output_type": "stream",
     "text": [
      "int64\n"
     ]
    }
   ],
   "source": [
    "a = np.array(list,dtype=np.int64)\n",
    "print(a.dtype)"
   ]
  },
  {
   "cell_type": "code",
   "execution_count": 17,
   "metadata": {},
   "outputs": [
    {
     "name": "stdout",
     "output_type": "stream",
     "text": [
      "float64\n"
     ]
    }
   ],
   "source": [
    "a = np.array(list,dtype=np.float)\n",
    "print(a.dtype)"
   ]
  },
  {
   "cell_type": "code",
   "execution_count": 18,
   "metadata": {},
   "outputs": [
    {
     "name": "stdout",
     "output_type": "stream",
     "text": [
      "float32\n"
     ]
    }
   ],
   "source": [
    "a = np.array(list,dtype=np.float32)\n",
    "print(a.dtype)"
   ]
  },
  {
   "cell_type": "code",
   "execution_count": 19,
   "metadata": {},
   "outputs": [],
   "source": [
    "#创建特定数据"
   ]
  },
  {
   "cell_type": "code",
   "execution_count": 20,
   "metadata": {},
   "outputs": [
    {
     "name": "stdout",
     "output_type": "stream",
     "text": [
      "[[0. 0. 0. 0.]\n",
      " [0. 0. 0. 0.]\n",
      " [0. 0. 0. 0.]]\n"
     ]
    }
   ],
   "source": [
    "#创建全零数组\n",
    "a = np.zeros((3,4))\n",
    "print(a)"
   ]
  },
  {
   "cell_type": "code",
   "execution_count": 21,
   "metadata": {},
   "outputs": [],
   "source": [
    "#创建全1数组\n",
    "a = np.ones((3,4),dtype=np.int)"
   ]
  },
  {
   "cell_type": "code",
   "execution_count": 22,
   "metadata": {},
   "outputs": [
    {
     "name": "stdout",
     "output_type": "stream",
     "text": [
      "[[0. 0. 0. 0.]\n",
      " [0. 0. 0. 0.]\n",
      " [0. 0. 0. 0.]]\n"
     ]
    }
   ],
   "source": [
    "# 创建全空数组，其实每一个都只是接近0\n",
    "a = np.empty((3,4),dtype = np.float)\n",
    "print(a)"
   ]
  },
  {
   "cell_type": "markdown",
   "metadata": {},
   "source": [
    "np.empty(shape,dtype=float,order='C')  \n",
    "parameters:  \n",
    "**shape:**int or tuple of int;e.g.,(2,3) or 2  \n",
    "**dtype:**data-type, optional; e.g., np.int8 . Defualt is np.float64  \n",
    "**order:** {'C','F'},optional, dafault: 'C'  \n",
    "return:  \n",
    "out: ndarray"
   ]
  },
  {
   "cell_type": "code",
   "execution_count": 23,
   "metadata": {},
   "outputs": [
    {
     "name": "stdout",
     "output_type": "stream",
     "text": [
      "[10 12 14 16 18]\n"
     ]
    }
   ],
   "source": [
    "#创建连续数组arange()\n",
    "a=np.arange(10,20,2) #10-19，2为步长\n",
    "print(a)"
   ]
  },
  {
   "cell_type": "code",
   "execution_count": 24,
   "metadata": {},
   "outputs": [
    {
     "name": "stdout",
     "output_type": "stream",
     "text": [
      "[[ 0  1  2  3]\n",
      " [ 4  5  6  7]\n",
      " [ 8  9 10 11]]\n"
     ]
    }
   ],
   "source": [
    "#改变数组的形状reshape\n",
    "a=np.arange(12).reshape((3,4))\n",
    "print(a)"
   ]
  },
  {
   "cell_type": "code",
   "execution_count": 25,
   "metadata": {},
   "outputs": [
    {
     "name": "stdout",
     "output_type": "stream",
     "text": [
      "[ 1.          1.47368421  1.94736842  2.42105263  2.89473684  3.36842105\n",
      "  3.84210526  4.31578947  4.78947368  5.26315789  5.73684211  6.21052632\n",
      "  6.68421053  7.15789474  7.63157895  8.10526316  8.57894737  9.05263158\n",
      "  9.52631579 10.        ]\n"
     ]
    }
   ],
   "source": [
    "#用linspace创建线段型数据\n",
    "a=np.linspace(1,10,20)#起点1，终点10.分割成20个数据\n",
    "print(a)"
   ]
  },
  {
   "cell_type": "markdown",
   "metadata": {},
   "source": [
    "## NumPy 基础运算1\n",
    "* 加减乘乘方\n",
    "* 数学函数比如sin()\n",
    "* bool运算\n",
    "* 矩阵乘法 .dot\n",
    "* sum(),min(),max()"
   ]
  },
  {
   "cell_type": "markdown",
   "metadata": {},
   "source": [
    "### 针对ndim==1"
   ]
  },
  {
   "cell_type": "code",
   "execution_count": 26,
   "metadata": {},
   "outputs": [],
   "source": [
    "import numpy as np\n",
    "a=np.array([10,20,30,40])\n",
    "b=np.arange(4) #[0,1,2,3]"
   ]
  },
  {
   "cell_type": "code",
   "execution_count": 27,
   "metadata": {},
   "outputs": [
    {
     "name": "stdout",
     "output_type": "stream",
     "text": [
      "a*b= [  0  20  60 120]\n",
      "a**b= [    1    20   900 64000]\n"
     ]
    }
   ],
   "source": [
    "# 乘与乘方 \n",
    "print(\"a*b=\",a*b)\n",
    "c=a**b\n",
    "print(\"a**b=\",c)"
   ]
  },
  {
   "cell_type": "code",
   "execution_count": 28,
   "metadata": {},
   "outputs": [
    {
     "name": "stdout",
     "output_type": "stream",
     "text": [
      "10*np.sin(a)= [-5.44021111  9.12945251 -9.88031624  7.4511316 ]\n"
     ]
    }
   ],
   "source": [
    "# sin()等函数，对每一个元素进行运算\n",
    "print(\"10*np.sin(a)=\",10*np.sin(a))"
   ]
  },
  {
   "cell_type": "code",
   "execution_count": 29,
   "metadata": {},
   "outputs": [
    {
     "name": "stdout",
     "output_type": "stream",
     "text": [
      "are everyone in b less than 3?  [ True  True  True False]\n"
     ]
    }
   ],
   "source": [
    "#bool运算\n",
    "print(\"are everyone in b less than 3? \",b<3)"
   ]
  },
  {
   "cell_type": "markdown",
   "metadata": {},
   "source": [
    "-----"
   ]
  },
  {
   "cell_type": "markdown",
   "metadata": {},
   "source": [
    "### ndim == 2"
   ]
  },
  {
   "cell_type": "code",
   "execution_count": 30,
   "metadata": {},
   "outputs": [
    {
     "name": "stdout",
     "output_type": "stream",
     "text": [
      "a= [[1 1]\n",
      " [0 1]]\n",
      "b= [[0 1]\n",
      " [2 3]]\n"
     ]
    }
   ],
   "source": [
    "a = np.array([[1,1],[0,1]])\n",
    "b = np.arange(4).reshape((2,2))\n",
    "print(\"a=\",a)\n",
    "print('b=',b)"
   ]
  },
  {
   "cell_type": "code",
   "execution_count": 31,
   "metadata": {},
   "outputs": [
    {
     "name": "stdout",
     "output_type": "stream",
     "text": [
      "np.dot(a,b)= [[2 4]\n",
      " [2 3]]\n",
      "a.dot(b)= [[2 4]\n",
      " [2 3]]\n"
     ]
    }
   ],
   "source": [
    "#矩阵乘法运算 .dot ---两种形式\n",
    "print('np.dot(a,b)=',np.dot(a,b))\n",
    "print('a.dot(b)=',a.dot(b))"
   ]
  },
  {
   "cell_type": "code",
   "execution_count": 32,
   "metadata": {},
   "outputs": [
    {
     "name": "stdout",
     "output_type": "stream",
     "text": [
      "np.sum(b)= 6\n",
      "np.min(b)= 0\n",
      "np.max(b)= 3\n"
     ]
    }
   ],
   "source": [
    "# sum()/min()/max()\n",
    "print('np.sum(b)=',np.sum(b))\n",
    "print('np.min(b)=',np.min(b))\n",
    "print('np.max(b)=',np.max(b))"
   ]
  },
  {
   "cell_type": "code",
   "execution_count": 33,
   "metadata": {},
   "outputs": [
    {
     "name": "stdout",
     "output_type": "stream",
     "text": [
      "b= [[0 1]\n",
      " [2 3]]\n",
      "np.sum(b,axis=1)= [1 5]\n",
      "np.min(b,axis=1)= [0 2]\n",
      "np.max(b,axis=1)= [1 3]\n"
     ]
    }
   ],
   "source": [
    "# 求某一行的sun/min/max..加标记axis=0/1..0为列\n",
    "print('b=',b)\n",
    "print('np.sum(b,axis=1)=',np.sum(b,axis=1))\n",
    "print('np.min(b,axis=1)=',np.min(b,axis=1))\n",
    "print('np.max(b,axis=1)=',np.max(b,axis=1))"
   ]
  },
  {
   "cell_type": "markdown",
   "metadata": {},
   "source": [
    "## Numpy基础运算（2）"
   ]
  },
  {
   "cell_type": "markdown",
   "metadata": {},
   "source": [
    "* 最大最小元素的索引\n",
    "* 均值/中位数/累加/累差\n",
    "* nonzero() #有何意义\n",
    "* 排序\n",
    "* 矩阵的转置\n",
    "* clip (Array, Array_min,Array_max)"
   ]
  },
  {
   "cell_type": "code",
   "execution_count": 34,
   "metadata": {},
   "outputs": [
    {
     "name": "stdout",
     "output_type": "stream",
     "text": [
      "A= [[ 2  3  4  5]\n",
      " [ 6  7  8  9]\n",
      " [10 11 12 13]]\n",
      "np.argmin(A)= 0\n",
      "np.argmax(A)= 11\n"
     ]
    }
   ],
   "source": [
    "import numpy as np\n",
    "A = np.arange(2,14).reshape((3,4)) \n",
    "print('A=',A)         \n",
    "print('np.argmin(A)=',np.argmin(A))    # 0\n",
    "print('np.argmax(A)=',A.argmax())    # 11"
   ]
  },
  {
   "cell_type": "code",
   "execution_count": 37,
   "metadata": {},
   "outputs": [
    {
     "name": "stdout",
     "output_type": "stream",
     "text": [
      "A= [[ 2  3  4  5]\n",
      " [ 6  7  8  9]\n",
      " [10 11 12 13]]\n",
      "A.mean()= 7.5\n",
      "np.average(A)= 7.5\n",
      "np.median(A)= 7.5\n",
      "np.cumsum(A)= [ 2  5  9 14 20 27 35 44 54 65 77 90]\n"
     ]
    },
    {
     "ename": "AttributeError",
     "evalue": "'numpy.ndarray' object has no attribute 'diff'",
     "output_type": "error",
     "traceback": [
      "\u001b[1;31m---------------------------------------------------------------------------\u001b[0m",
      "\u001b[1;31mAttributeError\u001b[0m                            Traceback (most recent call last)",
      "\u001b[1;32m<ipython-input-37-86c3332a768d>\u001b[0m in \u001b[0;36m<module>\u001b[1;34m\u001b[0m\n\u001b[0;32m      5\u001b[0m \u001b[0mprint\u001b[0m\u001b[1;33m(\u001b[0m\u001b[1;34m'np.median(A)='\u001b[0m\u001b[1;33m,\u001b[0m\u001b[0mnp\u001b[0m\u001b[1;33m.\u001b[0m\u001b[0mmedian\u001b[0m\u001b[1;33m(\u001b[0m\u001b[0mA\u001b[0m\u001b[1;33m)\u001b[0m\u001b[1;33m)\u001b[0m\u001b[1;33m\u001b[0m\u001b[1;33m\u001b[0m\u001b[0m\n\u001b[0;32m      6\u001b[0m \u001b[0mprint\u001b[0m\u001b[1;33m(\u001b[0m\u001b[1;34m'np.cumsum(A)='\u001b[0m\u001b[1;33m,\u001b[0m\u001b[0mnp\u001b[0m\u001b[1;33m.\u001b[0m\u001b[0mcumsum\u001b[0m\u001b[1;33m(\u001b[0m\u001b[0mA\u001b[0m\u001b[1;33m)\u001b[0m\u001b[1;33m)\u001b[0m \u001b[1;31m#accumlate 累计\u001b[0m\u001b[1;33m\u001b[0m\u001b[1;33m\u001b[0m\u001b[0m\n\u001b[1;32m----> 7\u001b[1;33m \u001b[0mprint\u001b[0m\u001b[1;33m(\u001b[0m\u001b[1;34m'A.diff()='\u001b[0m\u001b[1;33m,\u001b[0m\u001b[0mA\u001b[0m\u001b[1;33m.\u001b[0m\u001b[0mdiff\u001b[0m\u001b[1;33m(\u001b[0m\u001b[1;33m)\u001b[0m\u001b[1;33m)\u001b[0m\u001b[1;33m\u001b[0m\u001b[1;33m\u001b[0m\u001b[0m\n\u001b[0m",
      "\u001b[1;31mAttributeError\u001b[0m: 'numpy.ndarray' object has no attribute 'diff'"
     ]
    }
   ],
   "source": [
    "# 均值/中位数/累加/累差\n",
    "print('A=',A)\n",
    "print('A.mean()=',A.mean())\n",
    "print('np.average(A)=',np.average(A))\n",
    "print('np.median(A)=',np.median(A))\n",
    "print('np.cumsum(A)=',np.cumsum(A)) #accumlate 累计\n",
    "print('A.diff()=',A.diff())"
   ]
  },
  {
   "cell_type": "code",
   "execution_count": 38,
   "metadata": {},
   "outputs": [
    {
     "name": "stdout",
     "output_type": "stream",
     "text": [
      "A= [[ 2  3  4  5]\n",
      " [ 6  7  8  9]\n",
      " [10 11 12 13]]\n",
      "A.mean()= 7.5\n",
      "np.average(A)= 7.5\n",
      "np.median(A)= 7.5\n",
      "np.cumsum(A)= [ 2  5  9 14 20 27 35 44 54 65 77 90]\n",
      "np.diff(A)= [[1 1 1]\n",
      " [1 1 1]\n",
      " [1 1 1]]\n"
     ]
    }
   ],
   "source": [
    "# 均值/中位数/累加/累差(再来一遍)\n",
    "print('A=',A)\n",
    "print('A.mean()=',A.mean())\n",
    "print('np.average(A)=',np.average(A))\n",
    "print('np.median(A)=',np.median(A))\n",
    "print('np.cumsum(A)=',np.cumsum(A)) #accumlate 累计\n",
    "print('np.diff(A)=',np.diff(A))"
   ]
  },
  {
   "cell_type": "code",
   "execution_count": null,
   "metadata": {},
   "outputs": [],
   "source": [
    "# nonzero()\n",
    "print('A=',A)\n",
    "print('np.nonzero(A)=',np.nonzero(A))"
   ]
  },
  {
   "cell_type": "code",
   "execution_count": null,
   "metadata": {},
   "outputs": [],
   "source": [
    "# sort()\n",
    "A=np.arange(14,2,-1).reshape(3,4)\n",
    "print('A=',A)\n",
    "print('np.sort(A)=',np.sort(A))"
   ]
  },
  {
   "cell_type": "code",
   "execution_count": null,
   "metadata": {},
   "outputs": [],
   "source": [
    "#转置\n",
    "print('A',A)\n",
    "print('A.T=',A.T)\n",
    "print('np.transpose(A)=',np.transpose(A))"
   ]
  },
  {
   "cell_type": "code",
   "execution_count": null,
   "metadata": {},
   "outputs": [],
   "source": [
    "#clip(Array,Array_min,Array_max) 将Array中比min小的换成min；比max大的换成max\n",
    "print('A=',A)\n",
    "print('np.clip(A,5,9)=',np.clip(A,5,9))"
   ]
  },
  {
   "cell_type": "markdown",
   "metadata": {},
   "source": [
    "## Numpy 索引"
   ]
  },
  {
   "cell_type": "markdown",
   "metadata": {},
   "source": [
    "* 一维索引\n",
    "* 二维索引与切片\n",
    "* 逐行/列打印\n",
    "* flatten() #拉直"
   ]
  },
  {
   "cell_type": "code",
   "execution_count": null,
   "metadata": {},
   "outputs": [],
   "source": [
    "# 一维索引同列表索引，故而省略\n",
    "A = np.arange(15,3,-1).reshape((3,4))\n",
    "print('A=',A)"
   ]
  },
  {
   "cell_type": "code",
   "execution_count": null,
   "metadata": {},
   "outputs": [],
   "source": [
    "#2darray的索引与切片\n",
    "print('A[1][1]=',A[1][1])\n",
    "print('A[1,1]=',A[1,1])\n",
    "print('A[1,1:4]=',A[1,1:4])"
   ]
  },
  {
   "cell_type": "code",
   "execution_count": null,
   "metadata": {},
   "outputs": [],
   "source": [
    "#按行打印\n",
    "print('A=',A)\n",
    "for row in A:\n",
    "    print(row)\n",
    "print('按列打印如下')\n",
    "for column in A.T:\n",
    "    print(column)\n"
   ]
  },
  {
   "cell_type": "code",
   "execution_count": null,
   "metadata": {},
   "outputs": [],
   "source": [
    "# A.flatten() 拉直以及flat迭代器\n",
    "print('A=',A)\n",
    "print('A.flatten()=',A.flatten())\n",
    "for item in A.flat:\n",
    "    print(item)"
   ]
  },
  {
   "cell_type": "markdown",
   "metadata": {},
   "source": [
    "## Numpy 合并\n",
    "* np.vstack() vertical stack 垂直的\n",
    "* np.hstack() horizontal stack 水平的\n",
    "* np.newaxis() \n",
    "* np.concatenate()"
   ]
  },
  {
   "cell_type": "code",
   "execution_count": null,
   "metadata": {},
   "outputs": [],
   "source": [
    "# vstack()\n",
    "A= np.array([1,1,1])\n",
    "B= np.array([2,2,2])\n",
    "C = np.vstack((A,B))  # 注意传入的参数是一个turple\n",
    "print('C=',C)"
   ]
  },
  {
   "cell_type": "code",
   "execution_count": null,
   "metadata": {},
   "outputs": [],
   "source": [
    "# hstack()\n",
    "D=np.hstack((A,B))\n",
    "print('np.hsatck((A,B))',D)"
   ]
  },
  {
   "cell_type": "code",
   "execution_count": null,
   "metadata": {},
   "outputs": [],
   "source": [
    "#怎样把一个横向的数列编程纵向的？\n",
    "# 先看看转置管用否\n",
    "print('A=',A)\n",
    "print('A.T=',A.T)\n",
    "print('原因是A.shape=',A.shape,'不是(1,3)')"
   ]
  },
  {
   "cell_type": "code",
   "execution_count": null,
   "metadata": {},
   "outputs": [],
   "source": [
    "# 变成1*3 或者 3*1\n",
    "print('A[np.newaxis,:]=',A[np.newaxis,:])\n",
    "print('A[np.newaxis,:].shape=',A[np.newaxis,:].shape)\n",
    "print('A[:,np.newaxis]=',A[:,np.newaxis],'用到了切片')\n",
    "print('A[:,np.newaxis].shape=',A[:,np.newaxis].shape)"
   ]
  },
  {
   "cell_type": "code",
   "execution_count": null,
   "metadata": {},
   "outputs": [],
   "source": [
    "import numpy as np\n",
    "A = np.array([1,1,1])[:,np.newaxis]\n",
    "B = np.array([2,2,2])[:,np.newaxis]\n",
    "         \n",
    "C = np.vstack((A,B))   # vertical stack\n",
    "D = np.hstack((A,B))   # horizontal stack\n",
    "\n",
    "print(D)\n",
    "\"\"\"\n",
    "[[1 2]\n",
    "[1 2]\n",
    "[1 2]]\n",
    "\"\"\"\n",
    "\n",
    "print(A.shape,D.shape)\n",
    "# (3,1) (3,2)"
   ]
  },
  {
   "cell_type": "code",
   "execution_count": null,
   "metadata": {},
   "outputs": [],
   "source": [
    "# 合并大于两个 concatenate()\n",
    "\n",
    "print('A=',A)\n",
    "print('B=',B)\n",
    "C= np.concatenate((A,B,B,A),axis=0)\n",
    "print(\"np.concatenate((A,B,B,A),axis=0)\",C)\n",
    "print('C.shape=',C.shape)"
   ]
  },
  {
   "cell_type": "raw",
   "metadata": {},
   "source": [
    "## Numpy 分割\n",
    "* 等分- split\n",
    "* 不等分- array_split\n",
    "备注：依旧，axis=0/1表示纵向/横向"
   ]
  },
  {
   "cell_type": "code",
   "execution_count": null,
   "metadata": {},
   "outputs": [],
   "source": [
    "# 等分\n",
    "import numpy as np\n",
    "A=np.arange(12).reshape(3,4)\n",
    "print('A=',A)\n",
    "print('np.split(A,2,axis=1)=',np.split(A,2,axis=1)) # 1代表横向 \n",
    "print('np.split(A,3,axis=0)=',np.split(A,3,axis=0)) # 0代表纵向"
   ]
  },
  {
   "cell_type": "code",
   "execution_count": null,
   "metadata": {},
   "outputs": [],
   "source": [
    "# 不等分\n",
    "print('A=',A)\n",
    "print('np.array_split(A,2,axis=0)=',np.array_split(A,2,axis=0))"
   ]
  },
  {
   "cell_type": "code",
   "execution_count": null,
   "metadata": {},
   "outputs": [],
   "source": [
    "# np.split(A,2,axis = 1)等价于np.hsplit(A,2)\n",
    "print(np.split(A,2,axis = 1))"
   ]
  },
  {
   "cell_type": "markdown",
   "metadata": {},
   "source": [
    "## Numpy copy & deep copy"
   ]
  },
  {
   "cell_type": "markdown",
   "metadata": {},
   "source": [
    "* = 的赋值方式有关联性\n",
    "* copy()方式无关联性"
   ]
  },
  {
   "cell_type": "code",
   "execution_count": null,
   "metadata": {},
   "outputs": [],
   "source": [
    "import numpy as np\n",
    "a= np.array([1,2,3,4])\n",
    "b=a\n",
    "c=b\n",
    "d=c"
   ]
  },
  {
   "cell_type": "code",
   "execution_count": null,
   "metadata": {},
   "outputs": [],
   "source": [
    "#改变d的值看看,a变不变呢\n",
    "d[2]=100\n",
    "print('d=',d)\n",
    "print('a=',a)"
   ]
  },
  {
   "cell_type": "code",
   "execution_count": null,
   "metadata": {},
   "outputs": [],
   "source": [
    "# 换成copy()试试\n",
    "import numpy as np\n",
    "a= np.array([1,2,3,4])\n",
    "b=np.copy(a)"
   ]
  },
  {
   "cell_type": "code",
   "execution_count": null,
   "metadata": {},
   "outputs": [],
   "source": [
    "# 改变a的值，b变否？\n",
    "a[0]=100\n",
    "print('b=',b)"
   ]
  },
  {
   "cell_type": "code",
   "execution_count": null,
   "metadata": {},
   "outputs": [],
   "source": []
  }
 ],
 "metadata": {
  "kernelspec": {
   "display_name": "Python 3",
   "language": "python",
   "name": "python3"
  },
  "language_info": {
   "codemirror_mode": {
    "name": "ipython",
    "version": 3
   },
   "file_extension": ".py",
   "mimetype": "text/x-python",
   "name": "python",
   "nbconvert_exporter": "python",
   "pygments_lexer": "ipython3",
   "version": "3.7.3"
  }
 },
 "nbformat": 4,
 "nbformat_minor": 2
}
